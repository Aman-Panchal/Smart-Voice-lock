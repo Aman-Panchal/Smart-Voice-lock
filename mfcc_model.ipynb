{
  "nbformat": 4,
  "nbformat_minor": 0,
  "metadata": {
    "colab": {
      "name": "mfcc_model.ipynb",
      "provenance": []
    },
    "kernelspec": {
      "name": "python3",
      "display_name": "Python 3"
    },
    "language_info": {
      "name": "python"
    }
  },
  "cells": [
    {
      "cell_type": "code",
      "metadata": {
        "colab": {
          "base_uri": "https://localhost:8080/"
        },
        "id": "UBem3AgXJlgb",
        "outputId": "09fd951a-6661-45e5-a3f6-9fed6439f4c2"
      },
      "source": [
        "from google.colab import drive\n",
        "drive.mount('/content/drive')"
      ],
      "execution_count": 1,
      "outputs": [
        {
          "output_type": "stream",
          "text": [
            "Mounted at /content/drive\n"
          ],
          "name": "stdout"
        }
      ]
    },
    {
      "cell_type": "markdown",
      "metadata": {
        "id": "O9tEl1RlKRWS"
      },
      "source": [
        "install libraries"
      ]
    },
    {
      "cell_type": "code",
      "metadata": {
        "id": "MJ-SwMsfJyAm"
      },
      "source": [
        "!pip install pydiogment\n",
        "!pip install -U pydiogment"
      ],
      "execution_count": null,
      "outputs": []
    },
    {
      "cell_type": "code",
      "metadata": {
        "id": "D-XQU6iXKdAS"
      },
      "source": [
        "### Let's read a sample audio using librosa\n",
        "import librosa\n",
        "audio_file_path='wav/aman/Recording (2)-converted.wav'\n",
        "librosa_audio_data,librosa_sample_rate=librosa.load(audio_file_path)"
      ],
      "execution_count": 3,
      "outputs": []
    },
    {
      "cell_type": "code",
      "metadata": {
        "colab": {
          "base_uri": "https://localhost:8080/",
          "height": 284
        },
        "id": "rmN7MAMuKicv",
        "outputId": "62519c4e-05c2-423d-dba5-0c4ce5055f67"
      },
      "source": [
        "### Lets plot the librosa audio data\n",
        "import matplotlib.pyplot as plt\n",
        "# Original audio with 1 channel \n",
        "plt.figure(figsize=(12, 4))\n",
        "plt.plot(librosa_audio_data)"
      ],
      "execution_count": 4,
      "outputs": [
        {
          "output_type": "execute_result",
          "data": {
            "text/plain": [
              "[<matplotlib.lines.Line2D at 0x7f4cfa571410>]"
            ]
          },
          "metadata": {
            "tags": []
          },
          "execution_count": 4
        },
        {
          "output_type": "display_data",
          "data": {
            "image/png": "[encoded data removed]",
            "text/plain": [
              "<Figure size 864x288 with 1 Axes>"
            ]
          },
          "metadata": {
            "tags": [],
            "needs_background": "light"
          }
        }
      ]
    },
    {
      "cell_type": "markdown",
      "metadata": {
        "id": "BjpxCi3QVcAc"
      },
      "source": [
        "# Insert dataset"
      ]
    },
    {
      "cell_type": "code",
      "metadata": {
        "colab": {
          "base_uri": "https://localhost:8080/",
          "height": 206
        },
        "id": "m5GgFjRTK4-e",
        "outputId": "7765ea11-bb63-4284-8c4d-af751ac45f0b"
      },
      "source": [
        "\n",
        "import pandas as pd\n",
        "import os\n",
        "import librosa\n",
        "\n",
        "audio_dataset_path='wav/dataset/akash/'\n",
        "metadata=pd.read_excel('wav/dataset/akash/akash_new.xlsx')\n",
        "metadata.head()\n"
      ],
      "execution_count": 9,
      "outputs": [
        {
          "output_type": "execute_result",
          "data": {
            "text/html": [
              "<div>\n",
              "<style scoped>\n",
              "    .dataframe tbody tr th:only-of-type {\n",
              "        vertical-align: middle;\n",
              "    }\n",
              "\n",
              "    .dataframe tbody tr th {\n",
              "        vertical-align: top;\n",
              "    }\n",
              "\n",
              "    .dataframe thead th {\n",
              "        text-align: right;\n",
              "    }\n",
              "</style>\n",
              "<table border=\"1\" class=\"dataframe\">\n",
              "  <thead>\n",
              "    <tr style=\"text-align: right;\">\n",
              "      <th></th>\n",
              "      <th>file_name</th>\n",
              "      <th>class</th>\n",
              "    </tr>\n",
              "  </thead>\n",
              "  <tbody>\n",
              "    <tr>\n",
              "      <th>0</th>\n",
              "      <td>WhatsApp Audio 2021-06-09 at 7.03.07 PM.wav</td>\n",
              "      <td>akash</td>\n",
              "    </tr>\n",
              "    <tr>\n",
              "      <th>1</th>\n",
              "      <td>WhatsApp Audio 2021-06-09 at 7.03.07 PM (1).wav</td>\n",
              "      <td>akash</td>\n",
              "    </tr>\n",
              "    <tr>\n",
              "      <th>2</th>\n",
              "      <td>WhatsApp Audio 2021-06-09 at 7.03.06 PM.wav</td>\n",
              "      <td>akash</td>\n",
              "    </tr>\n",
              "    <tr>\n",
              "      <th>3</th>\n",
              "      <td>WhatsApp Audio 2021-06-09 at 7.03.06 PM (2).wav</td>\n",
              "      <td>akash</td>\n",
              "    </tr>\n",
              "    <tr>\n",
              "      <th>4</th>\n",
              "      <td>WhatsApp Audio 2021-06-09 at 7.03.06 PM (1).wav</td>\n",
              "      <td>akash</td>\n",
              "    </tr>\n",
              "  </tbody>\n",
              "</table>\n",
              "</div>"
            ],
            "text/plain": [
              "                                         file_name  class\n",
              "0      WhatsApp Audio 2021-06-09 at 7.03.07 PM.wav  akash\n",
              "1  WhatsApp Audio 2021-06-09 at 7.03.07 PM (1).wav  akash\n",
              "2      WhatsApp Audio 2021-06-09 at 7.03.06 PM.wav  akash\n",
              "3  WhatsApp Audio 2021-06-09 at 7.03.06 PM (2).wav  akash\n",
              "4  WhatsApp Audio 2021-06-09 at 7.03.06 PM (1).wav  akash"
            ]
          },
          "metadata": {
            "tags": []
          },
          "execution_count": 9
        }
      ]
    },
    {
      "cell_type": "code",
      "metadata": {
        "id": "3wKjd92nLKIv"
      },
      "source": [
        "def features_extractor(file):\n",
        "    audio, sample_rate = librosa.load(file_name, res_type='kaiser_fast') \n",
        "    mfccs_features = librosa.feature.mfcc(y=audio, sr=sample_rate, n_mfcc=40)\n",
        "    mfccs_scaled_features = np.mean(mfccs_features.T,axis=0)\n",
        "    \n",
        "    return mfccs_scaled_features"
      ],
      "execution_count": 7,
      "outputs": []
    },
    {
      "cell_type": "markdown",
      "metadata": {
        "id": "_rAbd67WVzKu"
      },
      "source": [
        "#### Extracting MFCC's For every audio file"
      ]
    },
    {
      "cell_type": "code",
      "metadata": {
        "colab": {
          "base_uri": "https://localhost:8080/"
        },
        "id": "8s16JrIcNScn",
        "outputId": "55a249ba-8e50-459e-9bbf-6954f25d50e5"
      },
      "source": [
        "\n",
        "\n",
        "import numpy as np\n",
        "from tqdm import tqdm\n",
        "### Now we iterate through every audio file and extract features \n",
        "### using Mel-Frequency Cepstral Coefficients\n",
        "#extracted_features=[]\n",
        "for index_num,row in tqdm(metadata.iterrows()):\n",
        "    file_name = os.path.join(os.path.abspath(audio_dataset_path),str(row[\"file_name\"]))\n",
        "    final_class_labels=row[\"class\"]\n",
        "    data=features_extractor(file_name)\n",
        "    extracted_features.append([data,final_class_labels])\n",
        "\n"
      ],
      "execution_count": 10,
      "outputs": [
        {
          "output_type": "stream",
          "text": [
            "800it [02:59,  4.46it/s]\n"
          ],
          "name": "stderr"
        }
      ]
    },
    {
      "cell_type": "code",
      "metadata": {
        "colab": {
          "base_uri": "https://localhost:8080/",
          "height": 206
        },
        "id": "zcw1p0gSNdeN",
        "outputId": "bd1ca6e5-0f23-435c-c874-b7eb9ed96fc3"
      },
      "source": [
        "### converting extracted_features to Pandas dataframe\n",
        "extracted_features_df=pd.DataFrame(extracted_features,columns=['feature','class'])\n",
        "extracted_features_df.head()"
      ],
      "execution_count": 11,
      "outputs": [
        {
          "output_type": "execute_result",
          "data": {
            "text/html": [
              "<div>\n",
              "<style scoped>\n",
              "    .dataframe tbody tr th:only-of-type {\n",
              "        vertical-align: middle;\n",
              "    }\n",
              "\n",
              "    .dataframe tbody tr th {\n",
              "        vertical-align: top;\n",
              "    }\n",
              "\n",
              "    .dataframe thead th {\n",
              "        text-align: right;\n",
              "    }\n",
              "</style>\n",
              "<table border=\"1\" class=\"dataframe\">\n",
              "  <thead>\n",
              "    <tr style=\"text-align: right;\">\n",
              "      <th></th>\n",
              "      <th>feature</th>\n",
              "      <th>class</th>\n",
              "    </tr>\n",
              "  </thead>\n",
              "  <tbody>\n",
              "    <tr>\n",
              "      <th>0</th>\n",
              "      <td>[-371.93112, 145.489, -22.60909, 18.450535, 40...</td>\n",
              "      <td>aman</td>\n",
              "    </tr>\n",
              "    <tr>\n",
              "      <th>1</th>\n",
              "      <td>[-430.44672, 200.24297, -58.688416, 23.587633,...</td>\n",
              "      <td>aman</td>\n",
              "    </tr>\n",
              "    <tr>\n",
              "      <th>2</th>\n",
              "      <td>[-447.62125, 208.67944, -55.273323, 18.741728,...</td>\n",
              "      <td>aman</td>\n",
              "    </tr>\n",
              "    <tr>\n",
              "      <th>3</th>\n",
              "      <td>[-426.615, 201.91743, -52.755993, 23.815062, 4...</td>\n",
              "      <td>aman</td>\n",
              "    </tr>\n",
              "    <tr>\n",
              "      <th>4</th>\n",
              "      <td>[-449.78067, 202.17969, -55.067146, 20.718473,...</td>\n",
              "      <td>aman</td>\n",
              "    </tr>\n",
              "  </tbody>\n",
              "</table>\n",
              "</div>"
            ],
            "text/plain": [
              "                                             feature class\n",
              "0  [-371.93112, 145.489, -22.60909, 18.450535, 40...  aman\n",
              "1  [-430.44672, 200.24297, -58.688416, 23.587633,...  aman\n",
              "2  [-447.62125, 208.67944, -55.273323, 18.741728,...  aman\n",
              "3  [-426.615, 201.91743, -52.755993, 23.815062, 4...  aman\n",
              "4  [-449.78067, 202.17969, -55.067146, 20.718473,...  aman"
            ]
          },
          "metadata": {
            "tags": []
          },
          "execution_count": 11
        }
      ]
    },
    {
      "cell_type": "code",
      "metadata": {
        "colab": {
          "base_uri": "https://localhost:8080/",
          "height": 206
        },
        "id": "pGZpHN9UNlKa",
        "outputId": "36d08a2b-e0b8-4d43-f244-cf8341f7f476"
      },
      "source": [
        "extracted_features_df.tail()"
      ],
      "execution_count": 12,
      "outputs": [
        {
          "output_type": "execute_result",
          "data": {
            "text/html": [
              "<div>\n",
              "<style scoped>\n",
              "    .dataframe tbody tr th:only-of-type {\n",
              "        vertical-align: middle;\n",
              "    }\n",
              "\n",
              "    .dataframe tbody tr th {\n",
              "        vertical-align: top;\n",
              "    }\n",
              "\n",
              "    .dataframe thead th {\n",
              "        text-align: right;\n",
              "    }\n",
              "</style>\n",
              "<table border=\"1\" class=\"dataframe\">\n",
              "  <thead>\n",
              "    <tr style=\"text-align: right;\">\n",
              "      <th></th>\n",
              "      <th>feature</th>\n",
              "      <th>class</th>\n",
              "    </tr>\n",
              "  </thead>\n",
              "  <tbody>\n",
              "    <tr>\n",
              "      <th>1547</th>\n",
              "      <td>[-392.98712, 157.27275, -25.600758, 14.179449,...</td>\n",
              "      <td>akash</td>\n",
              "    </tr>\n",
              "    <tr>\n",
              "      <th>1548</th>\n",
              "      <td>[-382.30505, 161.24277, -35.295837, 7.4671283,...</td>\n",
              "      <td>akash</td>\n",
              "    </tr>\n",
              "    <tr>\n",
              "      <th>1549</th>\n",
              "      <td>[-411.27338, 153.2634, -21.0966, 13.288947, 40...</td>\n",
              "      <td>akash</td>\n",
              "    </tr>\n",
              "    <tr>\n",
              "      <th>1550</th>\n",
              "      <td>[-415.59647, 154.93677, -23.800282, 16.818874,...</td>\n",
              "      <td>akash</td>\n",
              "    </tr>\n",
              "    <tr>\n",
              "      <th>1551</th>\n",
              "      <td>[-406.82013, 154.63939, -25.195005, 15.650413,...</td>\n",
              "      <td>akash</td>\n",
              "    </tr>\n",
              "  </tbody>\n",
              "</table>\n",
              "</div>"
            ],
            "text/plain": [
              "                                                feature  class\n",
              "1547  [-392.98712, 157.27275, -25.600758, 14.179449,...  akash\n",
              "1548  [-382.30505, 161.24277, -35.295837, 7.4671283,...  akash\n",
              "1549  [-411.27338, 153.2634, -21.0966, 13.288947, 40...  akash\n",
              "1550  [-415.59647, 154.93677, -23.800282, 16.818874,...  akash\n",
              "1551  [-406.82013, 154.63939, -25.195005, 15.650413,...  akash"
            ]
          },
          "metadata": {
            "tags": []
          },
          "execution_count": 12
        }
      ]
    },
    {
      "cell_type": "markdown",
      "metadata": {
        "id": "vCOgrFirWBP0"
      },
      "source": [
        "### Split the dataset into independent and dependent dataset"
      ]
    },
    {
      "cell_type": "code",
      "metadata": {
        "id": "Olul6Px0NmUL"
      },
      "source": [
        "\n",
        "X=np.array(extracted_features_df['feature'].tolist())\n",
        "y=np.array(extracted_features_df['class'].tolist())"
      ],
      "execution_count": 13,
      "outputs": []
    },
    {
      "cell_type": "code",
      "metadata": {
        "id": "6IRN6tp7N0MV"
      },
      "source": [
        "### Train Test Split\n",
        "from sklearn.model_selection import train_test_split\n",
        "X_train,X_test,y_train,y_test=train_test_split(X,y,test_size=0.2,random_state=0)"
      ],
      "execution_count": 14,
      "outputs": []
    },
    {
      "cell_type": "code",
      "metadata": {
        "id": "HueY-NdYN9VL"
      },
      "source": [
        "from sklearn.metrics import accuracy_score, confusion_matrix, classification_report\n",
        "\n",
        "def print_score(clf, X_train, y_train, X_test, y_test, train=True):\n",
        "    if train:\n",
        "        pred = clf.predict(X_train)\n",
        "        clf_report = pd.DataFrame(classification_report(y_train, pred, output_dict=True))\n",
        "        print(\"Train Result:\\n================================================\")\n",
        "        print(f\"Accuracy Score: {accuracy_score(y_train, pred) * 100:.2f}%\")\n",
        "        print(\"_______________________________________________\")\n",
        "        print(f\"CLASSIFICATION REPORT:\\n{clf_report}\")\n",
        "        print(\"_______________________________________________\")\n",
        "        print(f\"Confusion Matrix: \\n {confusion_matrix(y_train, pred)}\\n\")\n",
        "        \n",
        "    elif train==False:\n",
        "        pred = clf.predict(X_test)\n",
        "        clf_report = pd.DataFrame(classification_report(y_test, pred, output_dict=True))\n",
        "        print(\"Test Result:\\n================================================\")        \n",
        "        print(f\"Accuracy Score: {accuracy_score(y_test, pred) * 100:.2f}%\")\n",
        "        print(\"_______________________________________________\")\n",
        "        print(f\"CLASSIFICATION REPORT:\\n{clf_report}\")\n",
        "        print(\"_______________________________________________\")\n",
        "        print(f\"Confusion Matrix: \\n {confusion_matrix(y_test, pred)}\\n\")"
      ],
      "execution_count": 15,
      "outputs": []
    },
    {
      "cell_type": "markdown",
      "metadata": {
        "id": "DGJ5GsF7WLT1"
      },
      "source": [
        "## Applying SGDClassifier"
      ]
    },
    {
      "cell_type": "code",
      "metadata": {
        "colab": {
          "base_uri": "https://localhost:8080/"
        },
        "id": "zj9XNDYjPifr",
        "outputId": "c061d87d-6d58-43d9-86c9-f2a588897543"
      },
      "source": [
        "from sklearn.linear_model import LogisticRegression\n",
        "from sklearn.linear_model import SGDClassifier\n",
        "\n",
        "\n",
        "lr_clf = SGDClassifier(early_stopping=True,eta0=.0001,max_iter=2,random_state=22)\n",
        "lr_clf.fit(X_train, y_train)\n",
        "\n",
        "\n",
        "print_score(lr_clf, X_train, y_train, X_test, y_test, train=True)\n",
        "print_score(lr_clf, X_train, y_train, X_test, y_test, train=False)"
      ],
      "execution_count": 22,
      "outputs": [
        {
          "output_type": "stream",
          "text": [
            "Train Result:\n",
            "================================================\n",
            "Accuracy Score: 94.44%\n",
            "_______________________________________________\n",
            "CLASSIFICATION REPORT:\n",
            "                akash        aman  accuracy    macro avg  weighted avg\n",
            "precision    0.991424    0.902736    0.9444     0.947080      0.948616\n",
            "recall       0.900312    0.991653    0.9444     0.945982      0.944400\n",
            "f1-score     0.943673    0.945107    0.9444     0.944390      0.944366\n",
            "support    642.000000  599.000000    0.9444  1241.000000   1241.000000\n",
            "_______________________________________________\n",
            "Confusion Matrix: \n",
            " [[578  64]\n",
            " [  5 594]]\n",
            "\n",
            "Test Result:\n",
            "================================================\n",
            "Accuracy Score: 95.18%\n",
            "_______________________________________________\n",
            "CLASSIFICATION REPORT:\n",
            "                akash        aman  accuracy   macro avg  weighted avg\n",
            "precision    1.000000    0.910714  0.951768    0.955357      0.956075\n",
            "recall       0.905063    1.000000  0.951768    0.952532      0.951768\n",
            "f1-score     0.950166    0.953271  0.951768    0.951719      0.951694\n",
            "support    158.000000  153.000000  0.951768  311.000000    311.000000\n",
            "_______________________________________________\n",
            "Confusion Matrix: \n",
            " [[143  15]\n",
            " [  0 153]]\n",
            "\n"
          ],
          "name": "stdout"
        },
        {
          "output_type": "stream",
          "text": [
            "/usr/local/lib/python3.7/dist-packages/sklearn/linear_model/_stochastic_gradient.py:557: ConvergenceWarning: Maximum number of iteration reached before convergence. Consider increasing max_iter to improve the fit.\n",
            "  ConvergenceWarning)\n"
          ],
          "name": "stderr"
        }
      ]
    },
    {
      "cell_type": "markdown",
      "metadata": {
        "id": "truYbOmLWTJy"
      },
      "source": [
        "## Applying SVC"
      ]
    },
    {
      "cell_type": "code",
      "metadata": {
        "colab": {
          "base_uri": "https://localhost:8080/"
        },
        "id": "igIfo0J4PjPB",
        "outputId": "74c23f5b-02d1-4a85-befb-a898db13e463"
      },
      "source": [
        "from sklearn.svm import SVC\n",
        "\n",
        "\n",
        "svm_clf = SVC(kernel='rbf', gamma=0.1, C=1.0,random_state=32,)\n",
        "svm_clf.fit(X_train, y_train)\n",
        "\n",
        "print_score(svm_clf, X_train, y_train, X_test, y_test, train=True)\n",
        "print_score(svm_clf, X_train, y_train, X_test, y_test, train=False)"
      ],
      "execution_count": 23,
      "outputs": [
        {
          "output_type": "stream",
          "text": [
            "Train Result:\n",
            "================================================\n",
            "Accuracy Score: 100.00%\n",
            "_______________________________________________\n",
            "CLASSIFICATION REPORT:\n",
            "           akash   aman  accuracy  macro avg  weighted avg\n",
            "precision    1.0    1.0       1.0        1.0           1.0\n",
            "recall       1.0    1.0       1.0        1.0           1.0\n",
            "f1-score     1.0    1.0       1.0        1.0           1.0\n",
            "support    642.0  599.0       1.0     1241.0        1241.0\n",
            "_______________________________________________\n",
            "Confusion Matrix: \n",
            " [[642   0]\n",
            " [  0 599]]\n",
            "\n",
            "Test Result:\n",
            "================================================\n",
            "Accuracy Score: 71.38%\n",
            "_______________________________________________\n",
            "CLASSIFICATION REPORT:\n",
            "                akash        aman  accuracy   macro avg  weighted avg\n",
            "precision    0.639676    1.000000  0.713826    0.819838      0.816942\n",
            "recall       1.000000    0.418301  0.713826    0.709150      0.713826\n",
            "f1-score     0.780247    0.589862  0.713826    0.685054      0.686585\n",
            "support    158.000000  153.000000  0.713826  311.000000    311.000000\n",
            "_______________________________________________\n",
            "Confusion Matrix: \n",
            " [[158   0]\n",
            " [ 89  64]]\n",
            "\n"
          ],
          "name": "stdout"
        }
      ]
    },
    {
      "cell_type": "markdown",
      "metadata": {
        "id": "Rh5JUuOKWeRr"
      },
      "source": [
        "## Applying RandomForestClassifier"
      ]
    },
    {
      "cell_type": "code",
      "metadata": {
        "colab": {
          "base_uri": "https://localhost:8080/"
        },
        "id": "lH3aOn-dQ7Vw",
        "outputId": "c748f6b0-17dd-4d9f-907d-97a338165f4e"
      },
      "source": [
        "from sklearn.ensemble import RandomForestClassifier\n",
        "from sklearn.model_selection import RandomizedSearchCV\n",
        "\n",
        "rf_clf = RandomForestClassifier(n_estimators=1, random_state=42,max_depth=1)\n",
        "rf_clf.fit(X_train, y_train)\n",
        "\n",
        "print_score(rf_clf, X_train, y_train, X_test, y_test, train=True)\n",
        "print_score(rf_clf, X_train, y_train, X_test, y_test, train=False)"
      ],
      "execution_count": 24,
      "outputs": [
        {
          "output_type": "stream",
          "text": [
            "Train Result:\n",
            "================================================\n",
            "Accuracy Score: 97.66%\n",
            "_______________________________________________\n",
            "CLASSIFICATION REPORT:\n",
            "                akash        aman  accuracy    macro avg  weighted avg\n",
            "precision    0.975194    0.978188  0.976632     0.976691      0.976639\n",
            "recall       0.979751    0.973289  0.976632     0.976520      0.976632\n",
            "f1-score     0.977467    0.975732  0.976632     0.976600      0.976630\n",
            "support    642.000000  599.000000  0.976632  1241.000000   1241.000000\n",
            "_______________________________________________\n",
            "Confusion Matrix: \n",
            " [[629  13]\n",
            " [ 16 583]]\n",
            "\n",
            "Test Result:\n",
            "================================================\n",
            "Accuracy Score: 97.43%\n",
            "_______________________________________________\n",
            "CLASSIFICATION REPORT:\n",
            "                akash        aman  accuracy   macro avg  weighted avg\n",
            "precision    0.962963    0.986577  0.974277    0.974770      0.974580\n",
            "recall       0.987342    0.960784  0.974277    0.974063      0.974277\n",
            "f1-score     0.975000    0.973510  0.974277    0.974255      0.974267\n",
            "support    158.000000  153.000000  0.974277  311.000000    311.000000\n",
            "_______________________________________________\n",
            "Confusion Matrix: \n",
            " [[156   2]\n",
            " [  6 147]]\n",
            "\n"
          ],
          "name": "stdout"
        }
      ]
    },
    {
      "cell_type": "code",
      "metadata": {
        "colab": {
          "base_uri": "https://localhost:8080/",
          "height": 81
        },
        "id": "ovRRSSJaRGK7",
        "outputId": "e9106413-1794-4e27-fb1c-d15763bab4b1"
      },
      "source": [
        "test_score = accuracy_score(y_test, lr_clf.predict(X_test)) * 100\n",
        "train_score = accuracy_score(y_train, lr_clf.predict(X_train)) * 100\n",
        "\n",
        "results_df = pd.DataFrame(data=[[\"SGDClassifier\", train_score, test_score]], \n",
        "                          columns=['Model', 'Training Accuracy %', 'Testing Accuracy %'])\n",
        "results_df"
      ],
      "execution_count": 27,
      "outputs": [
        {
          "output_type": "execute_result",
          "data": {
            "text/html": [
              "<div>\n",
              "<style scoped>\n",
              "    .dataframe tbody tr th:only-of-type {\n",
              "        vertical-align: middle;\n",
              "    }\n",
              "\n",
              "    .dataframe tbody tr th {\n",
              "        vertical-align: top;\n",
              "    }\n",
              "\n",
              "    .dataframe thead th {\n",
              "        text-align: right;\n",
              "    }\n",
              "</style>\n",
              "<table border=\"1\" class=\"dataframe\">\n",
              "  <thead>\n",
              "    <tr style=\"text-align: right;\">\n",
              "      <th></th>\n",
              "      <th>Model</th>\n",
              "      <th>Training Accuracy %</th>\n",
              "      <th>Testing Accuracy %</th>\n",
              "    </tr>\n",
              "  </thead>\n",
              "  <tbody>\n",
              "    <tr>\n",
              "      <th>0</th>\n",
              "      <td>SGDClassifier</td>\n",
              "      <td>94.439968</td>\n",
              "      <td>95.176849</td>\n",
              "    </tr>\n",
              "  </tbody>\n",
              "</table>\n",
              "</div>"
            ],
            "text/plain": [
              "           Model  Training Accuracy %  Testing Accuracy %\n",
              "0  SGDClassifier            94.439968           95.176849"
            ]
          },
          "metadata": {
            "tags": []
          },
          "execution_count": 27
        }
      ]
    },
    {
      "cell_type": "code",
      "metadata": {
        "colab": {
          "base_uri": "https://localhost:8080/",
          "height": 112
        },
        "id": "UC0WfVYiSH2h",
        "outputId": "689481f7-8909-4c22-e724-34b73b930bd4"
      },
      "source": [
        "test_score = accuracy_score(y_test, svm_clf.predict(X_test)) * 100\n",
        "train_score = accuracy_score(y_train, svm_clf.predict(X_train)) * 100\n",
        "\n",
        "results_df_2 = pd.DataFrame(data=[[\"Support Vector Machine\", train_score, test_score]], \n",
        "                          columns=['Model', 'Training Accuracy %', 'Testing Accuracy %'])\n",
        "results_df = results_df.append(results_df_2, ignore_index=True)\n",
        "results_df"
      ],
      "execution_count": 28,
      "outputs": [
        {
          "output_type": "execute_result",
          "data": {
            "text/html": [
              "<div>\n",
              "<style scoped>\n",
              "    .dataframe tbody tr th:only-of-type {\n",
              "        vertical-align: middle;\n",
              "    }\n",
              "\n",
              "    .dataframe tbody tr th {\n",
              "        vertical-align: top;\n",
              "    }\n",
              "\n",
              "    .dataframe thead th {\n",
              "        text-align: right;\n",
              "    }\n",
              "</style>\n",
              "<table border=\"1\" class=\"dataframe\">\n",
              "  <thead>\n",
              "    <tr style=\"text-align: right;\">\n",
              "      <th></th>\n",
              "      <th>Model</th>\n",
              "      <th>Training Accuracy %</th>\n",
              "      <th>Testing Accuracy %</th>\n",
              "    </tr>\n",
              "  </thead>\n",
              "  <tbody>\n",
              "    <tr>\n",
              "      <th>0</th>\n",
              "      <td>SGDClassifier</td>\n",
              "      <td>94.439968</td>\n",
              "      <td>95.176849</td>\n",
              "    </tr>\n",
              "    <tr>\n",
              "      <th>1</th>\n",
              "      <td>Support Vector Machine</td>\n",
              "      <td>100.000000</td>\n",
              "      <td>71.382637</td>\n",
              "    </tr>\n",
              "  </tbody>\n",
              "</table>\n",
              "</div>"
            ],
            "text/plain": [
              "                    Model  Training Accuracy %  Testing Accuracy %\n",
              "0           SGDClassifier            94.439968           95.176849\n",
              "1  Support Vector Machine           100.000000           71.382637"
            ]
          },
          "metadata": {
            "tags": []
          },
          "execution_count": 28
        }
      ]
    },
    {
      "cell_type": "code",
      "metadata": {
        "colab": {
          "base_uri": "https://localhost:8080/",
          "height": 143
        },
        "id": "gw2_SUFdS4oS",
        "outputId": "a4f80a38-a553-4382-dbe5-42ae9db75dd3"
      },
      "source": [
        "test_score = accuracy_score(y_test, rf_clf.predict(X_test)) * 100\n",
        "train_score = accuracy_score(y_train, rf_clf.predict(X_train)) * 100\n",
        "\n",
        "results_df_2 = pd.DataFrame(data=[[\"Random Forest Classifier\", train_score, test_score]], \n",
        "                          columns=['Model', 'Training Accuracy %', 'Testing Accuracy %'])\n",
        "results_df = results_df.append(results_df_2, ignore_index=True)\n",
        "results_df"
      ],
      "execution_count": 29,
      "outputs": [
        {
          "output_type": "execute_result",
          "data": {
            "text/html": [
              "<div>\n",
              "<style scoped>\n",
              "    .dataframe tbody tr th:only-of-type {\n",
              "        vertical-align: middle;\n",
              "    }\n",
              "\n",
              "    .dataframe tbody tr th {\n",
              "        vertical-align: top;\n",
              "    }\n",
              "\n",
              "    .dataframe thead th {\n",
              "        text-align: right;\n",
              "    }\n",
              "</style>\n",
              "<table border=\"1\" class=\"dataframe\">\n",
              "  <thead>\n",
              "    <tr style=\"text-align: right;\">\n",
              "      <th></th>\n",
              "      <th>Model</th>\n",
              "      <th>Training Accuracy %</th>\n",
              "      <th>Testing Accuracy %</th>\n",
              "    </tr>\n",
              "  </thead>\n",
              "  <tbody>\n",
              "    <tr>\n",
              "      <th>0</th>\n",
              "      <td>SGDClassifier</td>\n",
              "      <td>94.439968</td>\n",
              "      <td>95.176849</td>\n",
              "    </tr>\n",
              "    <tr>\n",
              "      <th>1</th>\n",
              "      <td>Support Vector Machine</td>\n",
              "      <td>100.000000</td>\n",
              "      <td>71.382637</td>\n",
              "    </tr>\n",
              "    <tr>\n",
              "      <th>2</th>\n",
              "      <td>Random Forest Classifier</td>\n",
              "      <td>97.663175</td>\n",
              "      <td>97.427653</td>\n",
              "    </tr>\n",
              "  </tbody>\n",
              "</table>\n",
              "</div>"
            ],
            "text/plain": [
              "                      Model  Training Accuracy %  Testing Accuracy %\n",
              "0             SGDClassifier            94.439968           95.176849\n",
              "1    Support Vector Machine           100.000000           71.382637\n",
              "2  Random Forest Classifier            97.663175           97.427653"
            ]
          },
          "metadata": {
            "tags": []
          },
          "execution_count": 29
        }
      ]
    },
    {
      "cell_type": "markdown",
      "metadata": {
        "id": "-YiFnfv7WtLe"
      },
      "source": [
        "## Applying Deep Neural Network"
      ]
    },
    {
      "cell_type": "code",
      "metadata": {
        "id": "ozdPKgq7S-JO"
      },
      "source": [
        "\n",
        "\n",
        "### Label Encoding\n",
        "###y=np.array(pd.get_dummies(y))\n",
        "### Label Encoder\n",
        "from tensorflow.keras.utils import to_categorical\n",
        "from sklearn.preprocessing import LabelEncoder\n",
        "labelencoder=LabelEncoder()\n",
        "y=to_categorical(labelencoder.fit_transform(y))\n",
        "\n"
      ],
      "execution_count": 30,
      "outputs": []
    },
    {
      "cell_type": "code",
      "metadata": {
        "id": "rjObxlKqTMm4"
      },
      "source": [
        "### Train Test Split\n",
        "from sklearn.model_selection import train_test_split\n",
        "X_train,X_test,y_train,y_test=train_test_split(X,y,test_size=0.2,random_state=0)"
      ],
      "execution_count": 31,
      "outputs": []
    },
    {
      "cell_type": "code",
      "metadata": {
        "id": "HBJNt8GLTPzY"
      },
      "source": [
        "from tensorflow.keras.models import Sequential\n",
        "from tensorflow.keras.layers import Dense,Dropout,Activation,Flatten\n",
        "from tensorflow.keras.optimizers import Adam\n",
        "from sklearn import metrics"
      ],
      "execution_count": 32,
      "outputs": []
    },
    {
      "cell_type": "code",
      "metadata": {
        "id": "3jyXBlwxTSLa"
      },
      "source": [
        "### No of classes\n",
        "num_labels=y.shape[1]"
      ],
      "execution_count": 33,
      "outputs": []
    },
    {
      "cell_type": "code",
      "metadata": {
        "id": "wik6jZ_NTWdc"
      },
      "source": [
        "model=Sequential()\n",
        "###first layer\n",
        "model.add(Dense(100,input_shape=(40,)))\n",
        "model.add(Activation('relu'))\n",
        "model.add(Dropout(0.5))\n",
        "###second layer\n",
        "model.add(Dense(200))\n",
        "model.add(Activation('relu'))\n",
        "model.add(Dropout(0.5))\n",
        "###third layer\n",
        "model.add(Dense(100))\n",
        "model.add(Activation('relu'))\n",
        "model.add(Dropout(0.5))\n",
        "\n",
        "###final layer\n",
        "model.add(Dense(num_labels))\n",
        "model.add(Activation('softmax'))"
      ],
      "execution_count": 34,
      "outputs": []
    },
    {
      "cell_type": "code",
      "metadata": {
        "colab": {
          "base_uri": "https://localhost:8080/"
        },
        "id": "ogQaxU_hTZQy",
        "outputId": "e6de02a0-9be5-46da-90a7-3864996710d7"
      },
      "source": [
        "model.summary()\n"
      ],
      "execution_count": 35,
      "outputs": [
        {
          "output_type": "stream",
          "text": [
            "Model: \"sequential\"\n",
            "_________________________________________________________________\n",
            "Layer (type)                 Output Shape              Param #   \n",
            "=================================================================\n",
            "dense (Dense)                (None, 100)               4100      \n",
            "_________________________________________________________________\n",
            "activation (Activation)      (None, 100)               0         \n",
            "_________________________________________________________________\n",
            "dropout (Dropout)            (None, 100)               0         \n",
            "_________________________________________________________________\n",
            "dense_1 (Dense)              (None, 200)               20200     \n",
            "_________________________________________________________________\n",
            "activation_1 (Activation)    (None, 200)               0         \n",
            "_________________________________________________________________\n",
            "dropout_1 (Dropout)          (None, 200)               0         \n",
            "_________________________________________________________________\n",
            "dense_2 (Dense)              (None, 100)               20100     \n",
            "_________________________________________________________________\n",
            "activation_2 (Activation)    (None, 100)               0         \n",
            "_________________________________________________________________\n",
            "dropout_2 (Dropout)          (None, 100)               0         \n",
            "_________________________________________________________________\n",
            "dense_3 (Dense)              (None, 2)                 202       \n",
            "_________________________________________________________________\n",
            "activation_3 (Activation)    (None, 2)                 0         \n",
            "=================================================================\n",
            "Total params: 44,602\n",
            "Trainable params: 44,602\n",
            "Non-trainable params: 0\n",
            "_________________________________________________________________\n"
          ],
          "name": "stdout"
        }
      ]
    },
    {
      "cell_type": "code",
      "metadata": {
        "id": "5NebZT2rTcOO"
      },
      "source": [
        "model.compile(loss='categorical_crossentropy',metrics=['accuracy'],optimizer='adam')"
      ],
      "execution_count": 36,
      "outputs": []
    },
    {
      "cell_type": "code",
      "metadata": {
        "colab": {
          "base_uri": "https://localhost:8080/"
        },
        "id": "XA8-z8-rTrnD",
        "outputId": "e4ac3284-59c4-4cf1-d2eb-f6c3768071d9"
      },
      "source": [
        "## Trianing my model\n",
        "from tensorflow.keras.callbacks import ModelCheckpoint\n",
        "from datetime import datetime \n",
        "\n",
        "num_epochs =35\n",
        "num_batch_size = 32\n",
        "\n",
        "checkpointer = ModelCheckpoint(filepath='saved_models/audio_classification.hdf5', \n",
        "                               verbose=1, save_best_only=True)\n",
        "start = datetime.now()\n",
        "\n",
        "model.fit(X_train, y_train, batch_size=num_batch_size, epochs=num_epochs, validation_data=(X_test, y_test), callbacks=[checkpointer], verbose=1)\n",
        "\n",
        "\n",
        "duration = datetime.now() - start\n",
        "print(\"Training completed in time: \", duration)"
      ],
      "execution_count": 37,
      "outputs": [
        {
          "output_type": "stream",
          "text": [
            "Epoch 1/35\n",
            "39/39 [==============================] - 1s 9ms/step - loss: 28.7150 - accuracy: 0.4875 - val_loss: 0.7871 - val_accuracy: 0.5563\n",
            "\n",
            "Epoch 00001: val_loss improved from inf to 0.78709, saving model to saved_models/audio_classification.hdf5\n",
            "Epoch 2/35\n",
            "39/39 [==============================] - 0s 4ms/step - loss: 11.6600 - accuracy: 0.5101 - val_loss: 0.8476 - val_accuracy: 0.4662\n",
            "\n",
            "Epoch 00002: val_loss did not improve from 0.78709\n",
            "Epoch 3/35\n",
            "39/39 [==============================] - 0s 4ms/step - loss: 6.0775 - accuracy: 0.5665 - val_loss: 0.6558 - val_accuracy: 0.5659\n",
            "\n",
            "Epoch 00003: val_loss improved from 0.78709 to 0.65581, saving model to saved_models/audio_classification.hdf5\n",
            "Epoch 4/35\n",
            "39/39 [==============================] - 0s 4ms/step - loss: 4.2053 - accuracy: 0.5641 - val_loss: 0.7315 - val_accuracy: 0.4984\n",
            "\n",
            "Epoch 00004: val_loss did not improve from 0.65581\n",
            "Epoch 5/35\n",
            "39/39 [==============================] - 0s 4ms/step - loss: 3.0591 - accuracy: 0.5600 - val_loss: 0.7276 - val_accuracy: 0.4984\n",
            "\n",
            "Epoch 00005: val_loss did not improve from 0.65581\n",
            "Epoch 6/35\n",
            "39/39 [==============================] - 0s 4ms/step - loss: 2.2567 - accuracy: 0.5423 - val_loss: 0.6736 - val_accuracy: 0.5241\n",
            "\n",
            "Epoch 00006: val_loss did not improve from 0.65581\n",
            "Epoch 7/35\n",
            "39/39 [==============================] - 0s 4ms/step - loss: 1.6510 - accuracy: 0.5713 - val_loss: 0.6830 - val_accuracy: 0.5177\n",
            "\n",
            "Epoch 00007: val_loss did not improve from 0.65581\n",
            "Epoch 8/35\n",
            "39/39 [==============================] - 0s 4ms/step - loss: 1.1209 - accuracy: 0.6164 - val_loss: 0.6462 - val_accuracy: 0.9196\n",
            "\n",
            "Epoch 00008: val_loss improved from 0.65581 to 0.64625, saving model to saved_models/audio_classification.hdf5\n",
            "Epoch 9/35\n",
            "39/39 [==============================] - 0s 3ms/step - loss: 1.0354 - accuracy: 0.6221 - val_loss: 0.6309 - val_accuracy: 0.5627\n",
            "\n",
            "Epoch 00009: val_loss improved from 0.64625 to 0.63092, saving model to saved_models/audio_classification.hdf5\n",
            "Epoch 10/35\n",
            "39/39 [==============================] - 0s 4ms/step - loss: 0.9808 - accuracy: 0.6156 - val_loss: 0.6305 - val_accuracy: 0.9775\n",
            "\n",
            "Epoch 00010: val_loss improved from 0.63092 to 0.63055, saving model to saved_models/audio_classification.hdf5\n",
            "Epoch 11/35\n",
            "39/39 [==============================] - 0s 4ms/step - loss: 0.8523 - accuracy: 0.6463 - val_loss: 0.5959 - val_accuracy: 1.0000\n",
            "\n",
            "Epoch 00011: val_loss improved from 0.63055 to 0.59592, saving model to saved_models/audio_classification.hdf5\n",
            "Epoch 12/35\n",
            "39/39 [==============================] - 0s 4ms/step - loss: 0.7601 - accuracy: 0.6648 - val_loss: 0.5496 - val_accuracy: 0.9228\n",
            "\n",
            "Epoch 00012: val_loss improved from 0.59592 to 0.54959, saving model to saved_models/audio_classification.hdf5\n",
            "Epoch 13/35\n",
            "39/39 [==============================] - 0s 4ms/step - loss: 0.7789 - accuracy: 0.6769 - val_loss: 0.5274 - val_accuracy: 0.9003\n",
            "\n",
            "Epoch 00013: val_loss improved from 0.54959 to 0.52737, saving model to saved_models/audio_classification.hdf5\n",
            "Epoch 14/35\n",
            "39/39 [==============================] - 0s 4ms/step - loss: 0.6954 - accuracy: 0.7099 - val_loss: 0.4439 - val_accuracy: 0.9936\n",
            "\n",
            "Epoch 00014: val_loss improved from 0.52737 to 0.44389, saving model to saved_models/audio_classification.hdf5\n",
            "Epoch 15/35\n",
            "39/39 [==============================] - 0s 4ms/step - loss: 0.6093 - accuracy: 0.7244 - val_loss: 0.3921 - val_accuracy: 0.9293\n",
            "\n",
            "Epoch 00015: val_loss improved from 0.44389 to 0.39214, saving model to saved_models/audio_classification.hdf5\n",
            "Epoch 16/35\n",
            "39/39 [==============================] - 0s 4ms/step - loss: 0.5180 - accuracy: 0.7752 - val_loss: 0.2960 - val_accuracy: 0.9775\n",
            "\n",
            "Epoch 00016: val_loss improved from 0.39214 to 0.29597, saving model to saved_models/audio_classification.hdf5\n",
            "Epoch 17/35\n",
            "39/39 [==============================] - 0s 4ms/step - loss: 0.5059 - accuracy: 0.7744 - val_loss: 0.2415 - val_accuracy: 0.9807\n",
            "\n",
            "Epoch 00017: val_loss improved from 0.29597 to 0.24148, saving model to saved_models/audio_classification.hdf5\n",
            "Epoch 18/35\n",
            "39/39 [==============================] - 0s 4ms/step - loss: 0.4742 - accuracy: 0.8050 - val_loss: 0.1948 - val_accuracy: 0.9614\n",
            "\n",
            "Epoch 00018: val_loss improved from 0.24148 to 0.19480, saving model to saved_models/audio_classification.hdf5\n",
            "Epoch 19/35\n",
            "39/39 [==============================] - 0s 4ms/step - loss: 0.3710 - accuracy: 0.8590 - val_loss: 0.1506 - val_accuracy: 0.9968\n",
            "\n",
            "Epoch 00019: val_loss improved from 0.19480 to 0.15063, saving model to saved_models/audio_classification.hdf5\n",
            "Epoch 20/35\n",
            "39/39 [==============================] - 0s 4ms/step - loss: 0.3253 - accuracy: 0.8719 - val_loss: 0.1087 - val_accuracy: 0.9968\n",
            "\n",
            "Epoch 00020: val_loss improved from 0.15063 to 0.10865, saving model to saved_models/audio_classification.hdf5\n",
            "Epoch 21/35\n",
            "39/39 [==============================] - 0s 4ms/step - loss: 0.2730 - accuracy: 0.8888 - val_loss: 0.0853 - val_accuracy: 0.9968\n",
            "\n",
            "Epoch 00021: val_loss improved from 0.10865 to 0.08528, saving model to saved_models/audio_classification.hdf5\n",
            "Epoch 22/35\n",
            "39/39 [==============================] - 0s 4ms/step - loss: 0.2567 - accuracy: 0.8872 - val_loss: 0.0852 - val_accuracy: 1.0000\n",
            "\n",
            "Epoch 00022: val_loss improved from 0.08528 to 0.08518, saving model to saved_models/audio_classification.hdf5\n",
            "Epoch 23/35\n",
            "39/39 [==============================] - 0s 5ms/step - loss: 0.2335 - accuracy: 0.9122 - val_loss: 0.0723 - val_accuracy: 1.0000\n",
            "\n",
            "Epoch 00023: val_loss improved from 0.08518 to 0.07227, saving model to saved_models/audio_classification.hdf5\n",
            "Epoch 24/35\n",
            "39/39 [==============================] - 0s 4ms/step - loss: 0.2155 - accuracy: 0.9226 - val_loss: 0.0750 - val_accuracy: 1.0000\n",
            "\n",
            "Epoch 00024: val_loss did not improve from 0.07227\n",
            "Epoch 25/35\n",
            "39/39 [==============================] - 0s 3ms/step - loss: 0.1939 - accuracy: 0.9226 - val_loss: 0.0698 - val_accuracy: 0.9968\n",
            "\n",
            "Epoch 00025: val_loss improved from 0.07227 to 0.06976, saving model to saved_models/audio_classification.hdf5\n",
            "Epoch 26/35\n",
            "39/39 [==============================] - 0s 4ms/step - loss: 0.1834 - accuracy: 0.9323 - val_loss: 0.0582 - val_accuracy: 1.0000\n",
            "\n",
            "Epoch 00026: val_loss improved from 0.06976 to 0.05819, saving model to saved_models/audio_classification.hdf5\n",
            "Epoch 27/35\n",
            "39/39 [==============================] - 0s 4ms/step - loss: 0.1635 - accuracy: 0.9363 - val_loss: 0.0476 - val_accuracy: 1.0000\n",
            "\n",
            "Epoch 00027: val_loss improved from 0.05819 to 0.04759, saving model to saved_models/audio_classification.hdf5\n",
            "Epoch 28/35\n",
            "39/39 [==============================] - 0s 4ms/step - loss: 0.1911 - accuracy: 0.9347 - val_loss: 0.0553 - val_accuracy: 0.9968\n",
            "\n",
            "Epoch 00028: val_loss did not improve from 0.04759\n",
            "Epoch 29/35\n",
            "39/39 [==============================] - 0s 3ms/step - loss: 0.1245 - accuracy: 0.9492 - val_loss: 0.0408 - val_accuracy: 1.0000\n",
            "\n",
            "Epoch 00029: val_loss improved from 0.04759 to 0.04082, saving model to saved_models/audio_classification.hdf5\n",
            "Epoch 30/35\n",
            "39/39 [==============================] - 0s 4ms/step - loss: 0.1349 - accuracy: 0.9629 - val_loss: 0.0386 - val_accuracy: 0.9968\n",
            "\n",
            "Epoch 00030: val_loss improved from 0.04082 to 0.03855, saving model to saved_models/audio_classification.hdf5\n",
            "Epoch 31/35\n",
            "39/39 [==============================] - 0s 4ms/step - loss: 0.1444 - accuracy: 0.9476 - val_loss: 0.0285 - val_accuracy: 1.0000\n",
            "\n",
            "Epoch 00031: val_loss improved from 0.03855 to 0.02846, saving model to saved_models/audio_classification.hdf5\n",
            "Epoch 32/35\n",
            "39/39 [==============================] - 0s 4ms/step - loss: 0.1078 - accuracy: 0.9629 - val_loss: 0.0216 - val_accuracy: 1.0000\n",
            "\n",
            "Epoch 00032: val_loss improved from 0.02846 to 0.02164, saving model to saved_models/audio_classification.hdf5\n",
            "Epoch 33/35\n",
            "39/39 [==============================] - 0s 4ms/step - loss: 0.0906 - accuracy: 0.9718 - val_loss: 0.0122 - val_accuracy: 1.0000\n",
            "\n",
            "Epoch 00033: val_loss improved from 0.02164 to 0.01224, saving model to saved_models/audio_classification.hdf5\n",
            "Epoch 34/35\n",
            "39/39 [==============================] - 0s 4ms/step - loss: 0.1147 - accuracy: 0.9621 - val_loss: 0.0105 - val_accuracy: 1.0000\n",
            "\n",
            "Epoch 00034: val_loss improved from 0.01224 to 0.01055, saving model to saved_models/audio_classification.hdf5\n",
            "Epoch 35/35\n",
            "39/39 [==============================] - 0s 4ms/step - loss: 0.0560 - accuracy: 0.9799 - val_loss: 0.0051 - val_accuracy: 1.0000\n",
            "\n",
            "Epoch 00035: val_loss improved from 0.01055 to 0.00507, saving model to saved_models/audio_classification.hdf5\n",
            "Training completed in time:  0:00:11.119129\n"
          ],
          "name": "stdout"
        }
      ]
    },
    {
      "cell_type": "code",
      "metadata": {
        "colab": {
          "base_uri": "https://localhost:8080/"
        },
        "id": "fEEciPUXTviT",
        "outputId": "ca079ec0-e5e1-4be7-d93b-025f9325b8db"
      },
      "source": [
        "test_accuracy=model.evaluate(X_test,y_test,verbose=0)\n",
        "print(test_accuracy[1])"
      ],
      "execution_count": 38,
      "outputs": [
        {
          "output_type": "stream",
          "text": [
            "1.0\n"
          ],
          "name": "stdout"
        }
      ]
    },
    {
      "cell_type": "code",
      "metadata": {
        "colab": {
          "base_uri": "https://localhost:8080/"
        },
        "id": "HgUKGk4DUXz3",
        "outputId": "0442fa2f-e375-4444-9270-bc4838a43b26"
      },
      "source": [
        "filename=\"wav/dataset/aman/Recording (8)-converted.wav\"\n",
        "audio, sample_rate = librosa.load(filename, res_type='kaiser_fast') \n",
        "mfccs_features = librosa.feature.mfcc(y=audio, sr=sample_rate, n_mfcc=40)\n",
        "mfccs_scaled_features = np.mean(mfccs_features.T,axis=0)\n",
        "\n",
        "print(mfccs_scaled_features)\n",
        "mfccs_scaled_features=mfccs_scaled_features.reshape(1,-1)\n",
        "print(mfccs_scaled_features)\n",
        "print(mfccs_scaled_features.shape)\n",
        "predicted_label=model.predict_classes(mfccs_scaled_features)\n",
        "print(predicted_label)\n",
        "prediction_class = labelencoder.inverse_transform(predicted_label) \n",
        "prediction_class"
      ],
      "execution_count": 39,
      "outputs": [
        {
          "output_type": "stream",
          "text": [
            "[-3.7193112e+02  1.4548900e+02 -2.2609091e+01  1.8450535e+01\n",
            "  4.0960831e+01 -1.3742833e+01 -4.1063385e+00  1.3415975e+01\n",
            " -1.1484894e+01 -9.9901972e+00  2.7550001e-02 -6.6313305e+00\n",
            "  1.4648305e+00  5.1530714e+00 -4.5525694e+00 -9.8004907e-01\n",
            "  4.4885907e-01 -6.1117506e+00 -2.1256275e+00 -7.2516806e-02\n",
            " -2.2938883e+00  3.0043283e+00  3.1290119e+00 -8.7787354e-01\n",
            "  2.6505778e+00  3.3047986e+00  1.1026218e+00  3.1278136e+00\n",
            "  6.6897023e-01 -2.5826888e+00  1.2943597e+00  2.6464984e+00\n",
            "  5.1432317e-01  1.3826212e+00  1.0832032e+00 -2.0555533e-01\n",
            "  7.5960594e-01  3.9840186e-01 -7.1845204e-01 -4.8347920e-01]\n",
            "[[-3.7193112e+02  1.4548900e+02 -2.2609091e+01  1.8450535e+01\n",
            "   4.0960831e+01 -1.3742833e+01 -4.1063385e+00  1.3415975e+01\n",
            "  -1.1484894e+01 -9.9901972e+00  2.7550001e-02 -6.6313305e+00\n",
            "   1.4648305e+00  5.1530714e+00 -4.5525694e+00 -9.8004907e-01\n",
            "   4.4885907e-01 -6.1117506e+00 -2.1256275e+00 -7.2516806e-02\n",
            "  -2.2938883e+00  3.0043283e+00  3.1290119e+00 -8.7787354e-01\n",
            "   2.6505778e+00  3.3047986e+00  1.1026218e+00  3.1278136e+00\n",
            "   6.6897023e-01 -2.5826888e+00  1.2943597e+00  2.6464984e+00\n",
            "   5.1432317e-01  1.3826212e+00  1.0832032e+00 -2.0555533e-01\n",
            "   7.5960594e-01  3.9840186e-01 -7.1845204e-01 -4.8347920e-01]]\n",
            "(1, 40)\n",
            "[1]\n"
          ],
          "name": "stdout"
        },
        {
          "output_type": "stream",
          "text": [
            "/usr/local/lib/python3.7/dist-packages/tensorflow/python/keras/engine/sequential.py:455: UserWarning: `model.predict_classes()` is deprecated and will be removed after 2021-01-01. Please use instead:* `np.argmax(model.predict(x), axis=-1)`,   if your model does multi-class classification   (e.g. if it uses a `softmax` last-layer activation).* `(model.predict(x) > 0.5).astype(\"int32\")`,   if your model does binary classification   (e.g. if it uses a `sigmoid` last-layer activation).\n",
            "  warnings.warn('`model.predict_classes()` is deprecated and '\n"
          ],
          "name": "stderr"
        },
        {
          "output_type": "execute_result",
          "data": {
            "text/plain": [
              "array(['aman'], dtype='<U5')"
            ]
          },
          "metadata": {
            "tags": []
          },
          "execution_count": 39
        }
      ]
    },
    {
      "cell_type": "code",
      "metadata": {
        "id": "qY5eyWVIUf-g"
      },
      "source": [
        "import speech_recognition as sr\n",
        "filename = 'wav/Recording (2)conv.wav'\n",
        "r = sr.Recognizer()\n",
        "# open the file\n",
        "with sr.AudioFile(filename) as source:\n",
        "    # listen for the data (load audio to memory)\n",
        "    audio_data = r.record(source)\n",
        "    # recognize (convert from speech to text)\n",
        "    text = r.recognize_google(audio_data)\n",
        "    print(text)"
      ],
      "execution_count": null,
      "outputs": []
    },
    {
      "cell_type": "markdown",
      "metadata": {
        "id": "5eIGufNGXSBM"
      },
      "source": [
        "### Output- please open the door"
      ]
    }
  ]
}